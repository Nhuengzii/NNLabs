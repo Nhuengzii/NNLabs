{
 "cells": [
  {
   "cell_type": "code",
   "execution_count": null,
   "metadata": {},
   "outputs": [],
   "source": [
    "import torch\n",
    "from torch import nn\n",
    "from torch.utils.data import DataLoader\n",
    "import matplotlib.pyplot as plt\n",
    "import math\n",
    "from torchvision import datasets, utils, transforms"
   ]
  },
  {
   "cell_type": "code",
   "execution_count": null,
   "metadata": {},
   "outputs": [],
   "source": [
    "class DeepKernel(nn.Module):\n",
    "    def __init__(self, in_channel: int,kernel_size: int) -> None:\n",
    "        super().__init__()\n",
    "        self.kernel = nn.Sequential(\n",
    "            nn.Flatten(),\n",
    "            nn.Linear(in_features=kernel_size ** 2 * in_channel, out_features= 32),\n",
    "            nn.ReLU(),\n",
    "            nn.Linear(in_features=32, out_features=1)\n",
    "        )\n",
    "        self.kernel_size = kernel_size\n",
    "        self.in_channel = in_channel\n",
    "    def forward(self, x: torch.Tensor):\n",
    "        return self.kernel(x)"
   ]
  },
  {
   "cell_type": "code",
   "execution_count": null,
   "metadata": {},
   "outputs": [],
   "source": [
    "class DeepConv2d(nn.Module):\n",
    "    def __init__(self, in_channels: int, out_channels: int, kernel_size: int,stride: int = 1, padding: int = 0) -> None:\n",
    "        super().__init__()\n",
    "        self.in_channels = in_channels\n",
    "        self.out_channels = out_channels\n",
    "        self.kernel_size = kernel_size\n",
    "        self.stride = stride\n",
    "        self.padding = padding\n",
    "        self.deepkernel: list[DeepKernel] = []\n",
    "        for i in range(out_channels):\n",
    "            self.deepkernel.append(DeepKernel(in_channel=self.in_channels,kernel_size=kernel_size))\n",
    "    def forward(self, x: torch.Tensor):\n",
    "        batch_size, _, height, width = x.shape\n",
    "        new_height = math.floor((height + 2 * self.padding - (self.kernel_size - 1) - 1) / self.stride) + 1\n",
    "        new_widht = math.floor((width + 2 * self.padding - (self.kernel_size - 1) - 1) / self.stride) + 1\n",
    "        ret = torch.empty(batch_size, self.out_channels, new_height, new_widht )\n",
    "        for out_channel in range(self.out_channels):\n",
    "            # deep convolution loop\n",
    "            for h in range((height - (self.kernel_size - 1))):\n",
    "                for w in range((height - (self.kernel_size - 1))):\n",
    "                    xx = x[:, :, h:self.kernel_size+h, w:self.kernel_size+w]\n",
    "                    ret[:, :, 1, 1] = self.deepkernel[out_channel](x[:, :, h:h+self.kernel_size, w:w+self.kernel_size])\n",
    "        return ret"
   ]
  },
  {
   "cell_type": "code",
   "execution_count": null,
   "metadata": {},
   "outputs": [],
   "source": [
    "transform = transforms.Compose([\n",
    "    transforms.ToTensor(),\n",
    "    transforms.Normalize((0.5, 0.5, 0.5), (0.5, 0.5, 0.5))\n",
    "])\n",
    "train_dataset = datasets.CIFAR100(\"./data\", train=True, download=True, transform=transform)"
   ]
  },
  {
   "cell_type": "code",
   "execution_count": null,
   "metadata": {},
   "outputs": [],
   "source": [
    "class DeepCNN(nn.Module):\n",
    "    def __init__(self) -> None:\n",
    "        super().__init__()\n",
    "        # (batch_size, 3, 32, 32)\n",
    "        self.dconv1 = DeepConv2d(in_channels=3, out_channels=16, kernel_size=3) # (16, 30, 30)\n",
    "        self.dconv2 = DeepConv2d(in_channels=16, out_channels=32, kernel_size=3) # (32, 28, 28)\n",
    "        self.dconv3 = DeepConv2d(in_channels=32, out_channels=64, kernel_size=3) # (32, 26, 26)\n",
    "        self.fc1 = nn.Linear(in_features=64 * 26 * 26, out_features=120)\n",
    "        self.fc2 = nn.Linear(120, 100)\n",
    "        self.relu = nn.ReLU()\n",
    "    def forward(self, x):\n",
    "        x = self.dconv1(x)\n",
    "        x = self.relu(x)\n",
    "        x = self.dconv2(x)\n",
    "        x = self.relu(x)\n",
    "        x = self.dconv3(x)\n",
    "        x = self.relu(x)\n",
    "        x = x.view(x.shape[0], -1)\n",
    "        x = self.fc1(x)\n",
    "        x = self.relu(x)\n",
    "        x = self.fc2(x)\n",
    "        return x\n",
    "class CNN(nn.Module):\n",
    "    def __init__(self) -> None:\n",
    "        super().__init__()\n",
    "        # (batch_size, 3, 32, 32)\n",
    "        self.dconv1 = nn.Conv2d(in_channels=3, out_channels=16, kernel_size=3) # (16, 30, 30)\n",
    "        self.dconv2 = nn.Conv2d(in_channels=16, out_channels=32, kernel_size=3) # (32, 28, 28)\n",
    "        self.dconv3 = nn.Conv2d(in_channels=32, out_channels=64, kernel_size=3) # (32, 26, 26)\n",
    "        self.fc1 = nn.Linear(in_features=64 * 26 * 26, out_features=120)\n",
    "        self.fc2 = nn.Linear(120, 100)\n",
    "        self.relu = nn.ReLU()\n",
    "    def forward(self, x):\n",
    "        x = self.dconv1(x)\n",
    "        x = self.relu(x)\n",
    "        x = self.dconv2(x)\n",
    "        x = self.relu(x)\n",
    "        x = self.dconv3(x)\n",
    "        x = self.relu(x)\n",
    "        x = x.view(x.shape[0], -1)\n",
    "        x = self.fc1(x)\n",
    "        x = self.relu(x)\n",
    "        x = self.fc2(x)\n",
    "        return x"
   ]
  },
  {
   "cell_type": "code",
   "execution_count": null,
   "metadata": {},
   "outputs": [],
   "source": []
  }
 ],
 "metadata": {
  "kernelspec": {
   "display_name": "venv",
   "language": "python",
   "name": "python3"
  },
  "language_info": {
   "codemirror_mode": {
    "name": "ipython",
    "version": 3
   },
   "file_extension": ".py",
   "mimetype": "text/x-python",
   "name": "python",
   "nbconvert_exporter": "python",
   "pygments_lexer": "ipython3",
   "version": "3.11.3"
  },
  "orig_nbformat": 4
 },
 "nbformat": 4,
 "nbformat_minor": 2
}
